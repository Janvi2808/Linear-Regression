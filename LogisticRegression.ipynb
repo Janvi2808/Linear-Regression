{
  "nbformat": 4,
  "nbformat_minor": 0,
  "metadata": {
    "colab": {
      "name": "LogisticRegression.ipynb",
      "provenance": [],
      "collapsed_sections": [],
      "authorship_tag": "ABX9TyM+TRIIlyajEur5yko2YYQj",
      "include_colab_link": true
    },
    "kernelspec": {
      "name": "python3",
      "display_name": "Python 3"
    },
    "language_info": {
      "name": "python"
    }
  },
  "cells": [
    {
      "cell_type": "markdown",
      "metadata": {
        "id": "view-in-github",
        "colab_type": "text"
      },
      "source": [
        "<a href=\"https://colab.research.google.com/github/Janvi2808/Linear-Regression/blob/main/LogisticRegression.ipynb\" target=\"_parent\"><img src=\"https://colab.research.google.com/assets/colab-badge.svg\" alt=\"Open In Colab\"/></a>"
      ]
    },
    {
      "cell_type": "code",
      "execution_count": null,
      "metadata": {
        "id": "UR4hT6RJnTrN"
      },
      "outputs": [],
      "source": [
        "import numpy as np\n",
        "import matplotlib.pyplot as plt\n",
        "import pandas as pd"
      ]
    },
    {
      "cell_type": "code",
      "source": [
        "data = pd.read_csv('/content/Hours.csv')\n",
        "X = data.iloc[:, :-1].values\n",
        "y = data.iloc[:, -1].values"
      ],
      "metadata": {
        "id": "dBdv2_Hanxob"
      },
      "execution_count": null,
      "outputs": []
    },
    {
      "cell_type": "code",
      "source": [
        "from sklearn.model_selection import train_test_split\n",
        "X_train, X_test, y_train, y_test = train_test_split(X, y, test_size = 0.25, random_state = 0)"
      ],
      "metadata": {
        "id": "Zh19HP1PoI99"
      },
      "execution_count": null,
      "outputs": []
    },
    {
      "cell_type": "code",
      "source": [
        "print(X_train)"
      ],
      "metadata": {
        "colab": {
          "base_uri": "https://localhost:8080/"
        },
        "id": "v9dCjKKgqiH9",
        "outputId": "a8095619-e616-42bf-b206-f513d34eb77d"
      },
      "execution_count": null,
      "outputs": [
        {
          "output_type": "stream",
          "name": "stdout",
          "text": [
            "[[4.75]\n",
            " [1.75]\n",
            " [3.5 ]\n",
            " [1.5 ]\n",
            " [1.  ]\n",
            " [1.75]\n",
            " [4.  ]\n",
            " [2.5 ]\n",
            " [2.  ]\n",
            " [4.5 ]\n",
            " [3.  ]\n",
            " [1.25]\n",
            " [0.5 ]\n",
            " [4.25]\n",
            " [3.25]]\n"
          ]
        }
      ]
    },
    {
      "cell_type": "code",
      "source": [
        "print(y_train)"
      ],
      "metadata": {
        "colab": {
          "base_uri": "https://localhost:8080/"
        },
        "id": "YcbpzH69oVCZ",
        "outputId": "3e42573d-b4cb-4d26-d218-0fcbb24cc8c6"
      },
      "execution_count": null,
      "outputs": [
        {
          "output_type": "stream",
          "name": "stdout",
          "text": [
            "[1 1 0 0 0 0 1 0 0 1 0 0 0 1 1]\n"
          ]
        }
      ]
    },
    {
      "cell_type": "code",
      "source": [
        "print(X_test)"
      ],
      "metadata": {
        "colab": {
          "base_uri": "https://localhost:8080/"
        },
        "id": "wooOG5POoYle",
        "outputId": "7ea0a0c1-da26-4ada-989a-92b764718963"
      },
      "execution_count": null,
      "outputs": [
        {
          "output_type": "stream",
          "name": "stdout",
          "text": [
            "[[5.  ]\n",
            " [0.75]\n",
            " [5.5 ]\n",
            " [2.25]\n",
            " [2.75]]\n"
          ]
        }
      ]
    },
    {
      "cell_type": "code",
      "source": [
        "print(y_test)"
      ],
      "metadata": {
        "colab": {
          "base_uri": "https://localhost:8080/"
        },
        "id": "yT1KFEgjodN2",
        "outputId": "c827bfdc-71c8-41e6-855b-4689bc72107a"
      },
      "execution_count": null,
      "outputs": [
        {
          "output_type": "stream",
          "name": "stdout",
          "text": [
            "[1 0 1 1 1]\n"
          ]
        }
      ]
    },
    {
      "cell_type": "code",
      "source": [
        "x = data['Hours'].values\n",
        "y = data['Pass'].values\n",
        "print(len(x), x)\n",
        "print(len(y), y)"
      ],
      "metadata": {
        "colab": {
          "base_uri": "https://localhost:8080/"
        },
        "id": "eNv-pP4-of4Q",
        "outputId": "23ad43e3-0e48-4ee1-fa37-e4372e7b7b2c"
      },
      "execution_count": null,
      "outputs": [
        {
          "output_type": "stream",
          "name": "stdout",
          "text": [
            "20 [0.5  0.75 1.   1.25 1.5  1.75 1.75 2.   2.25 2.5  2.75 3.   3.25 3.5\n",
            " 4.   4.25 4.5  4.75 5.   5.5 ]\n",
            "20 [0 0 0 0 0 0 1 0 1 0 1 0 1 0 1 1 1 1 1 1]\n"
          ]
        }
      ]
    },
    {
      "cell_type": "code",
      "source": [
        "def logf(a, b, x):\n",
        "    #print('This is x - ', x)\n",
        "    return 1.0 / (1.0 + np.exp(-a * x - b))\n",
        "\n",
        "def dlogf(a, b, x):\n",
        "    return logf(a, b, x) * (1 - logf(a, b, x))\n",
        "##\n",
        "## The derivative of the logistic function is f * (1 - f)\n",
        "##\n",
        "def one_step(x, y, a, b, eta):\n",
        "    ycalc = logf(a, b, x)\n",
        "    delta_a = sum((y - ycalc) * ycalc * (1 - ycalc) * x)\n",
        "    delta_b = sum((y - ycalc) * ycalc * (1 - ycalc))\n",
        "    a = a + delta_a * eta\n",
        "    b = b + delta_b * eta\n",
        "    error = sum((y - ycalc)**2)\n",
        "    return a, b, error"
      ],
      "metadata": {
        "id": "dyd9VZfookSS"
      },
      "execution_count": null,
      "outputs": []
    },
    {
      "cell_type": "code",
      "source": [
        ""
      ],
      "metadata": {
        "id": "s0WhkfbtoxvG"
      },
      "execution_count": null,
      "outputs": []
    },
    {
      "cell_type": "code",
      "source": [
        "import numpy as np\n",
        "a, b = 1, 1\n",
        "eta = 0.001\n",
        "for times in range(100000):\n",
        "    a, b, error = one_step(x, y, a, b, eta)\n",
        "    if times % 1000 == 0:\n",
        "        eta = max(0.00001, eta * 0.99)\n",
        "        if times % 5000 == 0:\n",
        "            print(a, b, error)"
      ],
      "metadata": {
        "colab": {
          "base_uri": "https://localhost:8080/"
        },
        "id": "8e-nfT9Ooyib",
        "outputId": "014e1702-469e-41f4-abdd-6bc59c9c9b62"
      },
      "execution_count": null,
      "outputs": [
        {
          "output_type": "stream",
          "name": "stdout",
          "text": [
            "0.9992450475046264 0.9993890327191156 8.523889507182833\n",
            "0.6179139520552147 -1.4979844156507485 3.084957105503622\n",
            "0.8575843879108347 -2.25139110880418 2.797870875378567\n",
            "0.9728737260919393 -2.606705125532272 2.732552054516108\n",
            "1.0396398691127056 -2.8110921108627958 2.7100337056834203\n",
            "1.082173567933465 -2.9408902089025872 2.700524220460017\n",
            "1.1108900673116497 -3.0283736506111025 2.6959924159334374\n",
            "1.131062584310428 -3.0897654381964674 2.6936492059306687\n",
            "1.1456553293443181 -3.134146964141185 2.692362841512513\n",
            "1.1564575274239577 -3.166985604175102 2.6916228693982727\n",
            "1.1646060702708207 -3.1917494563504847 2.6911806463872994\n",
            "1.1708518836621586 -3.210726553492437 2.690907701444394\n",
            "1.1757062393717048 -3.225473431081711 2.6907344557232133\n",
            "1.1795258843356653 -3.2370755338937856 2.6906217334216556\n",
            "1.1825648693218924 -3.246305498436247 2.690546738535855\n",
            "1.185007275774927 -3.253722977690618 2.690495822301691\n",
            "1.1869885082922136 -3.2597395285544297 2.6904606043094135\n",
            "1.1886094977629307 -3.2646618644507446 2.6904358215739017\n",
            "1.189946378196294 -3.2687213078697215 2.6904181006298367\n",
            "1.1910572009654397 -3.2720942171257867 2.690405238327665\n"
          ]
        }
      ]
    },
    {
      "cell_type": "code",
      "source": [
        "import matplotlib.pyplot as plt\n",
        "plt.plot(data.Hours, data.Pass, \"o\")\n",
        "plt.xlabel(\"Hours Studying\")\n",
        "plt.ylabel(\"Probability of passing the exam\")\n",
        "plt.title(\"Probability of passing the exam vs Hours of Studying \")\n",
        "\n",
        "ycalc = logf(a, b, x)\n",
        "plt.plot(x, ycalc)\n",
        "plt.plot(x, y, \"bo\")\n",
        "plt.grid(True)\n",
        "plt.show()"
      ],
      "metadata": {
        "colab": {
          "base_uri": "https://localhost:8080/",
          "height": 295
        },
        "id": "4-aFvnQQo35M",
        "outputId": "49ab2b29-2a9c-451b-8ebd-beb253370488"
      },
      "execution_count": null,
      "outputs": [
        {
          "output_type": "display_data",
          "data": {
            "text/plain": [
              "<Figure size 432x288 with 1 Axes>"
            ],
            "image/png": "[encoded data removed]"
          },
          "metadata": {
            "needs_background": "light"
          }
        }
      ]
    },
    {
      "cell_type": "code",
      "source": [
        ""
      ],
      "metadata": {
        "id": "_VcT8UGpoyN0"
      },
      "execution_count": null,
      "outputs": []
    }
  ]
}